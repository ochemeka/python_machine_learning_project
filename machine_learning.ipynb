{
 "cells": [
  {
   "cell_type": "code",
   "execution_count": null,
   "id": "6240d9f8",
   "metadata": {},
   "outputs": [],
   "source": [
    "# machine learning\n",
    "# Machine Learning is making the computer learn from studying data and statistics.\n",
    "# Machine Learning is a step into the direction of artificial intelligence (AI).\n",
    "# Machine Learning is a program that analyses data and learns to predict the outcome.\n",
    "\n",
    "# for example\n",
    "# imaging you are ask to write a program to identify images of cats,dogs, rabbit \n",
    "# using traditional programming technique you make \n",
    "# need to write rules alot of codes to look for edges curves colour pattern and all that, \n",
    "# what if in the future you are given a new animal to identify and its a black and white image\n",
    "# you are going to have to rewrite all your rules again and that is very stressful\n",
    "\n",
    "# so with machine learning it is made easy\n",
    "# we build a model or an engine and gives it lots and lots of data can be tens of thousand\n",
    "#  of picture of images (i.e for cats and dogs or a rabbit)\n",
    "# our model will then find and learn patterns in the input data\n",
    "# #so if we gove is a new picture of a cat or a dog or a horse its going to tell us with \n",
    "# certain level of accuracy #so the more data we input the more accuracy it will give us\n",
    "\n",
    "\n",
    "# machine learning has other applications such as\n",
    "# *self driving cars\n",
    "# *robotics\n",
    "# *language processing\n",
    "# *vision processing\n",
    "# *forecasting stock market trends /weather\n",
    "\n",
    "#\n",
    "\n",
    "\n",
    "# machine learning projects involves a number of steps\n",
    "# 1. import the data (ususally CSV file)\n",
    "# 2. clean the data (remove bug:duplicates or incomplete)\n",
    "# if they are alphabet we need to convert them to numerica values \n",
    "# else we get wrong results \n",
    "# it depens on the kind of data we are working with \n",
    "# 3. split the data into two segment: (1)training (2)testing\n",
    "# #you can reserve 80% for taining and 20% for testing \n",
    "\n",
    "# 4.create a model\n",
    "# this involve selecting an algorithm to analyse our data\n",
    "# there are so different types of algorithm \n",
    "# such as \n",
    "# decision tree, neuronetwrk etc\n",
    "# each algorithm has its props and cons in terms of accuracy\n",
    "# and performance so the algorithm you choose depending on the \n",
    "# problem you are trying to solve and your input data\n",
    "\n",
    "# there are libraries that you can use out there that provide this \n",
    "# algorithm  eg scikit-learn\n",
    "\n",
    "# 5. train the model\n",
    "# so we feed it our training data our modell will look \n",
    "# for partterns in the data\n",
    "\n",
    "# 6.make prediction\n",
    "# we ask our model to make prediction #it may not be accurate as \n",
    "# u start \n",
    "# 7. evaluate and improve\n",
    "# we eveluate the prediction and make sure they are accurate\n",
    "# then we need to get back to our model to either select another\n",
    "# algorithm that is going to produce a more better result for \n",
    "# the kind of problem we are trying to solve or \n",
    "# fine-tune the parameters of our model\n",
    "# each algorithm has parameters has we can modify to \n",
    "# optimize the accuracy\n",
    "# __________________________________________________________________\n",
    "\n",
    "\n",
    "# Next is to look at the libraries and tool for machine learning\n",
    "\n",
    "# Libraries in python\n",
    "# lets look at some popular libraries  for machine learning projectsh\n",
    "# 1. Numpy- it provide multi-dimentional arrays\n",
    "# 2. Pandas - it is a data analysis library, that provide \n",
    "# a concept called data-frame\n",
    "# A data-frame is a two dimentional structure similar \n",
    "# to an excel spreadsheet: so we have rows and columns\n",
    "# we can select data in a row or column or range of rows and column\n",
    "\n",
    "# 3.MatPlotLib- it a two dimentional plotting library \n",
    "# for creating graphs and plots\n",
    "\n",
    "# 4.Scikit-Learn:- which is one of the most popular \n",
    "# machine learning library that provide common algorithm such as \n",
    "# decision-tree, neuro-netwrk and so on\n",
    "\n",
    "\n",
    "\n",
    "# we use jupital bcoz we frequently need to inspect the data and \n",
    "# its very hard in vs code and terminals \n"
   ]
  },
  {
   "cell_type": "code",
   "execution_count": 14,
   "id": "16772a97",
   "metadata": {},
   "outputs": [],
   "source": [
    "# import pandas as pd\n",
    "# music_data = pd.read_csv('music.csv') \n",
    "# music_data.shape\n"
   ]
  },
  {
   "cell_type": "code",
   "execution_count": 13,
   "id": "910dfc51",
   "metadata": {},
   "outputs": [],
   "source": [
    "# music_data.describe"
   ]
  },
  {
   "cell_type": "code",
   "execution_count": 12,
   "id": "6da1d90b",
   "metadata": {},
   "outputs": [],
   "source": [
    "# music_data.values"
   ]
  },
  {
   "cell_type": "code",
   "execution_count": 44,
   "id": "a8e9dbf1",
   "metadata": {},
   "outputs": [],
   "source": [
    "# import pandas as pd            #first we import the pandas module\n",
    " #call the name of our file in our directory\n",
    "#this will return a data frame which is a 2-dimentional array just like an excel spreadsheet\n",
    "# music_data = pd.read_csv('music.csv')   #we save in a viriable called \"music_data\"\n",
    "#music_data    ##we chech if we loaded everything properly by clicking run\n",
    "\n",
    "# next is to clean our data: that includes removing duplicates, nulls or any thing we dont want in our project\n",
    "# since out csv is a clean on there's no need. \n",
    "\n",
    "\n",
    "#nexxt we need to split the data set into two separate data-set (one for input set and the  other for output set)\n",
    "# so when we train our module we give it two separate data sets\n",
    "# music_data.drop(columns=['genre']) #we use the parameter column by default it is set to none(columns=None) \n",
    "                                    #we set it to an array with one string 'genre'\n",
    "                                    #the method does modify the original data-set but creates a new one data-set\n",
    "                                    #use the drop to the column with 'genre'\n",
    "# by convention we use capital X to represent the data the expression\n",
    "# X = music_data.drop(columns=['genre'])\n",
    "# X                                #if we run X here we can see a new data set without genre\n",
    "\n",
    "# we the by convention used lowercase y for the new data set\n",
    "# y = music_data['genre']     #this is our output data-set\n",
    "# y    #run this\n",
    "# (i had to arrange the for clarification)\n",
    "\n",
    "# X = music_data.drop(columns=['genre'])  #input data\n",
    "# y = music_data['genre']             #output data\n",
    "\n",
    "\n",
    "\n",
    "\n",
    "#new topic: learning and predictions\n",
    "# next we create a model using a machine leaning algorithm\n",
    "# note eachh algorithm has its probs and cons in terms of performance and accuracy\n",
    "# there are different libraries in python so we dont have to write a bunch of lines of code\n",
    "# for this training we will use an algorithm call: \"Decision Tree\"\n",
    "# they are already programmed for us in a library called scikitLearn\n"
   ]
  },
  {
   "cell_type": "code",
   "execution_count": null,
   "id": "102dbec9",
   "metadata": {},
   "outputs": [],
   "source": [
    "# import pandas as pd  \n",
    "# from sklearn.tree import DecisionTreeClassifier   #sklearn is the package that comes with the scikitLearn library\n",
    "                                                  #we also have a module called \"tree\"\n",
    "                                                  #and we have a class called \"DecisionTreeClassifier\" \n",
    "                                                  #it impliment the decision tree algorithm\n",
    "\n",
    "# music_data = pd.read_csv('music.csv') \n",
    "# X = music_data.drop(columns=['genre'])  #input data\n",
    "# y = music_data['genre']  \n",
    "\n",
    "#next we create an object called model and set it to a new instance as below\n",
    "# model = DecisionTreeClassifier()\n",
    "# model.fit(X, y) #this method takes two data-set (1)the input (2)the output that is X, y\n",
    "\n",
    "# then we need to ask our model to make a prediction\n",
    "\n",
    "# model.predict([ [21, 1] ]) #this method take a 2-dimentional array \n",
    "#we have the outer array[ ]-in this array each element is on array #we pass another array [ [ ] ]\n",
    "#and then we pass a new input-set \n",
    "\n",
    "# predictions = model.predict([ [21, 1], [22, 0] ])  # we are asking our model to make two prediction \n",
    "                                                    # one for male(X) the other for femal(y)\n",
    "                                                    # then we save it to a variable called predictions\n",
    "# prediction                         #so we inspect the prediction\n",
    "\n"
   ]
  },
  {
   "cell_type": "code",
   "execution_count": 18,
   "id": "e9e27cec",
   "metadata": {},
   "outputs": [
    {
     "data": {
      "text/plain": [
       "array(['HipHop', 'Dance'], dtype=object)"
      ]
     },
     "execution_count": 18,
     "metadata": {},
     "output_type": "execute_result"
    }
   ],
   "source": [
    "import pandas as pd  \n",
    "from sklearn.tree import DecisionTreeClassifier \n",
    "\n",
    "music_data = pd.read_csv('music.csv') \n",
    "X = music_data.drop(columns=['genre'])  \n",
    "y = music_data['genre']  \n",
    "\n",
    "model = DecisionTreeClassifier()\n",
    "X = X.values         # conversion of X  into array\n",
    "model.fit(X, y)\n",
    "predictions = model.predict([ [21, 1], [22, 0] ])\n",
    "predictions\n",
    "\n",
    "\n",
    "# #next we need to measure the accuracy of our model we buiult"
   ]
  },
  {
   "cell_type": "code",
   "execution_count": 18,
   "id": "39811521",
   "metadata": {},
   "outputs": [
    {
     "ename": "SyntaxError",
     "evalue": "invalid syntax (3531632558.py, line 61)",
     "output_type": "error",
     "traceback": [
      "\u001b[1;36m  Input \u001b[1;32mIn [18]\u001b[1;36m\u001b[0m\n\u001b[1;33m    score\u001b[0m\n\u001b[1;37m    ^\u001b[0m\n\u001b[1;31mSyntaxError\u001b[0m\u001b[1;31m:\u001b[0m invalid syntax\n"
     ]
    }
   ],
   "source": [
    "# calculating the accuracy to know if our model is good to go\n",
    "# in order to do that we need to split our data set into two: one for training the other for testing\n",
    "# model.fit(X, y)      #we are actually passing the entire data-set for training the model \n",
    "# predictions = model.predict([ [21, 1], [22, 0] ])# and we are using two samples for making prediction.\n",
    "#NOTE: that is not enough to calculate the accuracy of a model\n",
    "# for better result we allocate 80% of our data-set for traning and 20% for testing\n",
    "# ([ [21, 1], [22, 0] ]) instead of passing only two samples for making prediction we can pass the data-set for testing\n",
    "# predictions = model.predict([ [21, 1], [22, 0] ])# then we get the predictions then \n",
    "# predictions        #we can get this predictions and compare this predictions with the actual values in the test set\n",
    "#                     based on that we can calculate the accuracy\n",
    "#                     all that is needed is to import a couple of functions and call them\n",
    "\n",
    "\n",
    "import pandas as pd  \n",
    "from sklearn.tree import DecisionTreeClassifier \n",
    "from sklearn.model_selection import train_test_split   #with this function we can easily split our data-set in to two sets\n",
    "                                                        #one for training the other for testing\n",
    "\n",
    "music_data = pd.read_csv('music.csv') \n",
    "X = music_data.drop(columns=['genre'])  \n",
    "y = music_data['genre']  \n",
    "X = X.values\n",
    "# train_test_split(X, y, test_size=0.2)  #we call the function here  #we give it 3 arguments this function returns a tuple\n",
    "                                       #so we can unpack it into 4 variable\n",
    "X_train, X_test, y_train, y_test = train_test_split(X, y, test_size=0.2) #the first two variable are the \n",
    "                                                                         #input set for traning and testing\n",
    "                                                                          #the other two variable are the\n",
    "                                                                          #output set for traning and testing\n",
    "model = DecisionTreeClassifier()\n",
    "         # conversion of X  into array\n",
    "model.fit(X_train, y_train)      #instead of passing the entire data-set, we pass the training set\n",
    "predictions = model.predict(X_train) #we pass the data-set that conatin values for testing\n",
    "                                       #to calculate the accuracy we have to compare the predictions we get with the \n",
    "                                       #actual value we have in our output set for testing\n",
    "# from sklearn.metrics import accuracy_score                       # to do the we import this function\n",
    "\n",
    "# i am rewriting this code      \n",
    "# ________________________________________________________________________\n",
    "\n",
    "# import pandas as pd  \n",
    "# from sklearn.tree import DecisionTreeClassifier \n",
    "# from sklearn.model_selection import train_test_split\n",
    "# from sklearn.metrics import accuracy_score        # to do the calculation of accuract we import this function\n",
    "\n",
    "# music_data = pd.read_csv('music.csv') \n",
    "# X = music_data.drop(columns=['genre'])  \n",
    "# y = music_data['genre']  \n",
    "# X = X.values\n",
    "\n",
    "# X_train, X_test, y_train, y_test = train_test_split(X, y, test_size=0.2)\n",
    "# model = DecisionTreeClassifier()\n",
    "#          # conversion of X  into array\n",
    "# model.fit(X_train, y_train)      #instead of passing the entire data-set, we pass the training set\n",
    "# predictions = model.predict(X_train)\n",
    "\n",
    "# # we call the function\n",
    "# accuracy_score(y_test, predictions)    #it require two arguments ('y_test' which contains the expected value, \n",
    "#                                         #'predictions' which contains the actual value)  \n",
    "#                                         #this function returns an accuracy score from 0 -1\n",
    "# score = accuracy_score(y_test, predictions) #store in a variable \"score\"\n",
    "# score"
   ]
  },
  {
   "cell_type": "code",
   "execution_count": 30,
   "id": "adf00b34",
   "metadata": {},
   "outputs": [
    {
     "data": {
      "text/plain": [
       "1.0"
      ]
     },
     "execution_count": 30,
     "metadata": {},
     "output_type": "execute_result"
    }
   ],
   "source": [
    "import pandas as pd  \n",
    "from sklearn.tree import DecisionTreeClassifier \n",
    "from sklearn.model_selection import train_test_split\n",
    "from sklearn.metrics import accuracy_score    \n",
    "\n",
    "music_data = pd.read_csv('music.csv') \n",
    "X = music_data.drop(columns=['genre'])  \n",
    "y = music_data['genre']  \n",
    "\n",
    "X_train, X_test, y_train, y_test = train_test_split(X, y, test_size=0.2)\n",
    "\n",
    "model = DecisionTreeClassifier()\n",
    "model.fit(X_train, y_train)      \n",
    "predictions = model.predict(X_test)\n",
    "accuracy_score(y_test, predictions)\n",
    "score = accuracy_score(y_test, predictions)  #it returns an accuracy score btw 0 -1\n",
    "score"
   ]
  },
  {
   "cell_type": "code",
   "execution_count": 40,
   "id": "212ee52b",
   "metadata": {},
   "outputs": [
    {
     "data": {
      "text/plain": [
       "['recommended.joblib']"
      ]
     },
     "execution_count": 40,
     "metadata": {},
     "output_type": "execute_result"
    }
   ],
   "source": [
    "# TOPIC:Persisting Model \n",
    "# persisting and loading models\n",
    "# here we are going to see a basic implementation of a model to make predictions\n",
    "# we will be using the decision tree bcox its quit easy to learn\n",
    "\n",
    "\n",
    "# music_data = pd.read_csv('music.csv') \n",
    "# X = music_data.drop(columns=['genre'])  \n",
    "# y = music_data['genre']  \n",
    "# X = X.values         # conversion of X  into array\n",
    "# model = DecisionTreeClassifier()\n",
    "# model.fit(X, y)\n",
    "\n",
    "\n",
    "\n",
    "# the above lines of code is not what we wan to use to make predictions everytime \n",
    "# when we have a new user or every time we want to make recommendations to an existing user\n",
    "# bcox trainin a model in a case where there are bigger files(thousand or millions of samples) \n",
    "# can be very time consuming it may take minute, hours, days etc\n",
    "# that is why model persistence is important\n",
    "# once in a while we build and train our model and save it to a file\n",
    "# so next time we want to make prediction we simply load our module from the file and ask it to make predictions\n",
    "# that model is already trained you dont neeed to retrain it\n",
    "# to do this we import formally we use  from sklearn.externals import joblib but now use import joblib\n",
    "# it important you read about scikit-learn\n",
    "#please visit  https://scikit-learn.org/stable/ and read above model_persistence\n",
    "# https://scikit-learn.org/stable/model_persistence.html \n",
    "# joblib object has method of saving and loading models we can see thaat below\n",
    "\n",
    "\n",
    "import pandas as pd  \n",
    "from sklearn.tree import DecisionTreeClassifier \n",
    "import joblib\n",
    "\n",
    "music_data = pd.read_csv('music.csv') \n",
    "X = music_data.drop(columns=['genre'])  \n",
    "y = music_data['genre']  \n",
    "X = X.values         # conversion of X  into array\n",
    "\n",
    "model = DecisionTreeClassifier()\n",
    "model.fit(X, y)\n",
    "# after we train our model we simply call joblib\n",
    "\n",
    "joblib.dump(model, 'recommended.joblib') # it requires two arguments one is our model and the file \n",
    "                                    #name u want to store our trained model\n",
    "\n",
    "# predictions = model.predict([ [21, 1], [22, 0] ])\n"
   ]
  },
  {
   "cell_type": "code",
   "execution_count": 23,
   "id": "40d202f4",
   "metadata": {},
   "outputs": [
    {
     "data": {
      "text/plain": [
       "['recommended.joblib']"
      ]
     },
     "execution_count": 23,
     "metadata": {},
     "output_type": "execute_result"
    }
   ],
   "source": [
    "import pandas as pd  \n",
    "from sklearn.tree import DecisionTreeClassifier \n",
    "# import sklearn.externals import joblib\n",
    "import joblib    #\n",
    "\n",
    "music_data = pd.read_csv('music.csv') \n",
    "X = music_data.drop(columns=['genre'])  \n",
    "y = music_data['genre']  \n",
    "X = X.values\n",
    "\n",
    "model = DecisionTreeClassifier()\n",
    "model.fit(X, y)\n",
    "\n",
    "joblib.dump(model, 'recommended.joblib') #this is the return value of our dump method  \n",
    "                                          #the output will create a file for us in our filder\n",
    "                                          # so wehn next we want to recommend a music we can choose the \n",
    "        \n",
    "# the result will be Out: ['recommended.joblib']"
   ]
  },
  {
   "cell_type": "code",
   "execution_count": 21,
   "id": "571f48e2",
   "metadata": {},
   "outputs": [
    {
     "data": {
      "text/plain": [
       "array(['HipHop'], dtype=object)"
      ]
     },
     "execution_count": 21,
     "metadata": {},
     "output_type": "execute_result"
    }
   ],
   "source": [
    "# since we have successfully save d our file\n",
    "# we then call the load method \n",
    "# removing the extra file bcos we dont need them\n",
    "\n",
    "import pandas as pd  \n",
    "from sklearn.tree import DecisionTreeClassifier \n",
    "import joblib    #\n",
    "\n",
    "\n",
    "\n",
    "model = DecisionTreeClassifier()\n",
    "model.fit(X, y)\n",
    "\n",
    "model = joblib.load('recommended.joblib')  #here we call the load method #we remove the model and pass the name of our file\n",
    "predictions = model.predict([ [21, 1]])  #since we are asking our model to make prediction \n",
    "                                            # if men btw 21 and 25 like hiphop music\n",
    "predictions"
   ]
  },
  {
   "cell_type": "code",
   "execution_count": 50,
   "id": "62cbd770",
   "metadata": {},
   "outputs": [],
   "source": [
    "# visualizing out our decision tree\n",
    "# in this section we are going to export our model in a visual format so you can see how this models make predictions\n",
    "\n",
    "import pandas as pd  \n",
    "from sklearn.tree import DecisionTreeClassifier \n",
    "from sklearn import tree   # this object has a way of exporting our model in a graphical format\n",
    "\n",
    "music_data = pd.read_csv('music.csv') \n",
    "X = music_data.drop(columns=['genre'])  \n",
    "y = music_data['genre']\n",
    "\n",
    "model = DecisionTreeClassifier()\n",
    "model.fit(X, y)\n",
    "# after we train our model we call the below\n",
    "#there are two arguments needed here 1st is out model the second is the name of our output file\n",
    "# (we are going to use keyword argument becoz this method takes so many parameters, so we pass \n",
    "# this without worrying about their order ) \n",
    "# music_recommed.dot' the .'dot' format is a graph description language\n",
    "\n",
    "#the dot is the  format which is the graph description lamguage\n",
    "tree.export_graphviz(model, out_file='music_recommed.dot',\n",
    "                            feature_names=['age', 'gender'],  #we set this to an array with 2 strings \n",
    "                                                           #these are the feature/column of our data-set \n",
    "                                                            #so they are the properties of our data\n",
    "                                                        #so we can see our rules in our nodes\n",
    "                             \n",
    "                            class_names=sorted(y.unique()), #we use the 'unique' to avoid repetition of values in our data-set classes and generate each class by genre\n",
    "                             label='all',  #we set label to 'all' so every node can have lable we can read\n",
    "                            rounded=True, #we set torounded to 'True' so they have rounded corners\n",
    "                            filled=True) # we set to 'True' so each box will be filled with a colour\n",
    "\n",
    "\n",
    "# after that go to vscode and install\n",
    "# Graphviz (dot) language  by João Pinto to view or tree"
   ]
  },
  {
   "cell_type": "code",
   "execution_count": null,
   "id": "d763ac42",
   "metadata": {},
   "outputs": [],
   "source": [
    "pip install matplotlib"
   ]
  },
  {
   "cell_type": "code",
   "execution_count": 1,
   "id": "c5284f45",
   "metadata": {},
   "outputs": [
    {
     "ename": "NameError",
     "evalue": "name 'plt' is not defined",
     "output_type": "error",
     "traceback": [
      "\u001b[1;31m---------------------------------------------------------------------------\u001b[0m",
      "\u001b[1;31mNameError\u001b[0m                                 Traceback (most recent call last)",
      "Input \u001b[1;32mIn [1]\u001b[0m, in \u001b[0;36m<cell line: 6>\u001b[1;34m()\u001b[0m\n\u001b[0;32m      3\u001b[0m \u001b[38;5;28;01mfrom\u001b[39;00m \u001b[38;5;21;01msklearn\u001b[39;00m\u001b[38;5;21;01m.\u001b[39;00m\u001b[38;5;21;01mtree\u001b[39;00m \u001b[38;5;28;01mimport\u001b[39;00m DecisionTreeClassifier \n\u001b[0;32m      4\u001b[0m \u001b[38;5;28;01mfrom\u001b[39;00m \u001b[38;5;21;01msklearn\u001b[39;00m \u001b[38;5;28;01mimport\u001b[39;00m tree\n\u001b[1;32m----> 6\u001b[0m fig \u001b[38;5;241m=\u001b[39m \u001b[43mplt\u001b[49m\u001b[38;5;241m.\u001b[39mfigure(figsize\u001b[38;5;241m=\u001b[39m(\u001b[38;5;241m25\u001b[39m,\u001b[38;5;241m20\u001b[39m))\n\u001b[0;32m      7\u001b[0m _ \u001b[38;5;241m=\u001b[39m tree\u001b[38;5;241m.\u001b[39mplot_tree(clf,\n\u001b[0;32m      8\u001b[0m                   feature_names\u001b[38;5;241m=\u001b[39mmusic_recommed\u001b[38;5;241m.\u001b[39mfeature_names,\n\u001b[0;32m      9\u001b[0m                   class_name\u001b[38;5;241m=\u001b[39mmusic_recommed\u001b[38;5;241m.\u001b[39mtarget_names,\n\u001b[0;32m     10\u001b[0m                   filled\u001b[38;5;241m=\u001b[39m\u001b[38;5;28;01mTrue\u001b[39;00m)\n",
      "\u001b[1;31mNameError\u001b[0m: name 'plt' is not defined"
     ]
    }
   ],
   "source": [
    "from matplotlib import pyplot\n",
    "from sklearn import datasets\n",
    "from sklearn.tree import DecisionTreeClassifier \n",
    "from sklearn import tree\n",
    "\n",
    "import graphviz\n",
    "\n",
    "\n",
    "\n",
    "\n",
    "\n",
    "gra"
   ]
  },
  {
   "cell_type": "code",
   "execution_count": 73,
   "id": "3c185f46",
   "metadata": {},
   "outputs": [],
   "source": [
    "import pandas as pd  \n",
    "from sklearn.datasets import fetch_openml, load_diabetes \n",
    "titanic = fetch_openml(name='titanic') "
   ]
  },
  {
   "cell_type": "code",
   "execution_count": 29,
   "id": "261fb0bb",
   "metadata": {},
   "outputs": [],
   "source": [
    "titanic.describe()"
   ]
  }
 ],
 "metadata": {
  "kernelspec": {
   "display_name": "Python 3 (ipykernel)",
   "language": "python",
   "name": "python3"
  },
  "language_info": {
   "codemirror_mode": {
    "name": "ipython",
    "version": 3
   },
   "file_extension": ".py",
   "mimetype": "text/x-python",
   "name": "python",
   "nbconvert_exporter": "python",
   "pygments_lexer": "ipython3",
   "version": "3.9.12"
  }
 },
 "nbformat": 4,
 "nbformat_minor": 5
}
